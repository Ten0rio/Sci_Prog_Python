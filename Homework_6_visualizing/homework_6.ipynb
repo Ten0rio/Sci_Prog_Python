{
 "cells": [
  {
   "cell_type": "markdown",
   "metadata": {},
   "source": [
    "Assignment 6:\n",
    "\n",
    "The goal of this project is to \n",
    "a) practice visualizing data and\n",
    "b) learn about data correlation and smoothing.\n",
    "\n",
    "Remember that for clear data visualization, a balance must be sought that maximize\n",
    "the information provided without overwhelming the viewer, or in losing too much detail.\n",
    "\n",
    "Libraries for should (could) be used:\n",
    "\n",
    "pandas\n",
    "numpy (optional)\n",
    "matplotlib (and optionally seaborn)\n",
    "\n",
    "Tasks:\n",
    "\n",
    "1)Visualize the data within climate.csv file\n",
    "    -generate graph(s) the CH4, CO2, N2O and SO2 concentrations versus the year\n",
    "    -generate graph(s) the CH4, CO2, N2O and SO2 concentrations versus temperature anomalies\n",
    "\n",
    "2)Data correlation\n",
    "    -determine the correlation (via the Pearson method) between all CH4, CO2, N2O, SO2 concentrations and the temperature\n",
    "    -anomaly categories (i.e. create a correlation matrix)\n",
    "    -generate a heatmap plot of the resulting correlation matrix\n",
    "\n",
    "3)Data smoothing\n",
    "    -smooth (using a reasonble \"window\" size) the temperature anomaly data using a rolling mean (a.k.a. a moving average)\n",
    "            Hint: can be done using either pandas or numpy (see convolve)\n",
    "    -generate a graph of the resulting values (e.g. year vs. rolling mean of temperature anomalies)\n",
    "    -save the new smoothed data and all of the original data (i.e. the data within climate.csv) to a new csv-formatted file\n",
    "            (e.g. climate-rolling-mean.csv)\n",
    "    \n",
    "4)Save all graphs/plots to a png-formatted file(s) (I would prefer to have a single file.)\n",
    "\n",
    "-------------------------------------------------------------------------------------------------------------------------\n",
    "\n",
    "Data\n",
    "\n",
    "1) CH4, CO2 and N2O\n",
    "\n",
    "Global trends\n",
    "A majority of the data comes from reference [1]\n",
    "Newer and more accurate values come from reference [2] global trends\n",
    "\n",
    "2) SO2 [3]\n",
    "\n",
    "Data are for American trends only\n",
    "\n",
    "3) Temperature [4]\n",
    "\n",
    "Global trends\n",
    "This data illustrates the change in global surface temperature relative to 1951-1980 average temperatures"
   ]
  },
  {
   "cell_type": "code",
   "execution_count": null,
   "metadata": {},
   "outputs": [],
   "source": []
  }
 ],
 "metadata": {
  "kernelspec": {
   "display_name": "Python 3",
   "language": "python",
   "name": "python3"
  },
  "language_info": {
   "codemirror_mode": {
    "name": "ipython",
    "version": 3
   },
   "file_extension": ".py",
   "mimetype": "text/x-python",
   "name": "python",
   "nbconvert_exporter": "python",
   "pygments_lexer": "ipython3",
   "version": "3.7.6"
  }
 },
 "nbformat": 4,
 "nbformat_minor": 4
}
