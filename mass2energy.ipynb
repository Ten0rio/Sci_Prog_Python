{
 "cells": [
  {
   "cell_type": "code",
   "execution_count": 2,
   "metadata": {},
   "outputs": [
    {
     "name": "stdout",
     "output_type": "stream",
     "text": [
      "The amount of energy that is equivalent to 500 gramms of mass is 4.49e+16 J (kg*m**2*s**-2)\n"
     ]
    }
   ],
   "source": [
    "'''\n",
    "    author: Fabian Bender, Manuel Trappe\n",
    "    Created on 16.04.2020 \n",
    "    \n",
    "    Homework: 4 \n",
    "    This programm calculates the amount of energy that is equivalent to 500 grams of mass,\n",
    "    with Einstein's E = m*c**2 \n",
    "    \n",
    "    To Do:\n",
    "\n",
    "    This will be your final and best version of the mass2energy python script.\n",
    "    \n",
    "'''\n",
    "\n",
    "from scipy.constants import speed_of_light \n",
    "\n",
    "def energy_J(mass_kg = None):\n",
    "    return mass_kg * speed_of_light ** 2\n",
    "\n",
    "print('The amount of energy that is equivalent to 500 gramms of mass is {0:.3} J (kg*m**2*s**-2)'.format(energy_J(0.500)))\n",
    "\n"
   ]
  },
  {
   "cell_type": "code",
   "execution_count": null,
   "metadata": {},
   "outputs": [],
   "source": []
  }
 ],
 "metadata": {
  "kernelspec": {
   "display_name": "Python 3",
   "language": "python",
   "name": "python3"
  },
  "language_info": {
   "codemirror_mode": {
    "name": "ipython",
    "version": 3
   },
   "file_extension": ".py",
   "mimetype": "text/x-python",
   "name": "python",
   "nbconvert_exporter": "python",
   "pygments_lexer": "ipython3",
   "version": "3.7.6"
  }
 },
 "nbformat": 4,
 "nbformat_minor": 4
}
