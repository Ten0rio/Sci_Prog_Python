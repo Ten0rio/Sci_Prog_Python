{
 "cells": [
  {
   "cell_type": "code",
   "execution_count": 1,
   "metadata": {},
   "outputs": [],
   "source": [
    "'''\n",
    "1)\n",
    "Task: Write a program (e.g. 'ufo_sighting.py') that does the following\n",
    "\n",
    "1. Using the csv library, read in the file ufo_data.csv\n",
    "\n",
    "2. Calculate and print to screen the average duration of the sightings\n",
    "\n",
    "3. Find all unique countries that have had ufo sightings,\n",
    "and print to screen a nonredundant list of them\n",
    "\n",
    "4. Calculate the a) maximum and b) minimum number of digits of the numbers\n",
    "within the duration data\n",
    "\n",
    "5. Create two new lists that contain the numbers that have the a) maximum and\n",
    "b) minimum number of digits (i.e. a max list and a minimum list)\n",
    "\n",
    "6. Write a single new csv file that contains these two new lists,\n",
    "each given its own column \n",
    "(hint: take a look into the itertools.zip_longest function)\n",
    "\n",
    "2)\n",
    "Include at the top of the code as\n",
    "a block comment (i.e. triple quotations) a clear statement\n",
    "of each your contribution\n",
    "\n",
    "For Example:\n",
    "\n",
    "\"\"\"\n",
    "\n",
    "Student 1:\n",
    "\n",
    "a. Conceptual development\n",
    "b. Primary developer of function_1_name\n",
    "c. Codeveloper of error functions etc.\n",
    "\n",
    "Student 2:\n",
    "\n",
    "a. Conceptual development\n",
    "b. Primary developer of function_2_name\n",
    "c. Codeveloper of error functions\n",
    "d. Primary developer of user interface etc.\n",
    "\n",
    "\n",
    "'''\n",
    "\n",
    "\n",
    "'''\n",
    "Student Manuel Trappe Mtr.Nr.9027036:\n",
    "\n",
    "a. Conceptual development, 1, 2, 3, 4\n",
    "\n",
    "Student Fabian Bender Mtr.Nr.9028878:\n",
    "\n",
    "a. Conceptual development, 5, 6\n",
    "\n",
    "\n",
    "'''\n",
    "import csv\n",
    "import statistics as st\n",
    "from numpy import around\n",
    "import matplotlib.pyplot as plt\n",
    "%matplotlib inline\n"
   ]
  },
  {
   "cell_type": "code",
   "execution_count": 2,
   "metadata": {},
   "outputs": [],
   "source": [
    " \n",
    "\n",
    "datetime=[]\n",
    "city=[]\n",
    "state=[]\n",
    "country=[]\n",
    "shape=[]\n",
    "duration=[]# (seconds)\n",
    "comments=[]\n",
    "date_posted=[]\n",
    "latitude=[]\n",
    "longitude=[]\n",
    "year=[]\n",
    "\n",
    "with open('ufo_data.csv') as file:\n",
    "   read_it = csv.reader(file, delimiter=',')\n",
    "   next(read_it)  ## skips header (i.e. the first row)\n",
    "   for row in read_it:\n",
    "        datetime.append((row[0]))\n",
    "        city.append((row[1]))\n",
    "        state.append((row[2]))\n",
    "        country.append((row[3]))\n",
    "        shape.append((row[4]))\n",
    "        duration.append(float((row[5])))   # (seconds)\n",
    "        comments.append((row[6]))\n",
    "        date_posted.append((row[7]))\n",
    "        latitude.append((row[8]))\n",
    "        longitude.append(float((row[9])))\n",
    "        year.append(float((row[10])))\n"
   ]
  },
  {
   "cell_type": "code",
   "execution_count": 3,
   "metadata": {},
   "outputs": [
    {
     "name": "stdout",
     "output_type": "stream",
     "text": [
      "The calculatet average duration of the sightings is 6.573E+03 seconds\n"
     ]
    }
   ],
   "source": [
    "'''Calculate and print to screen the average duration of the sightings'''\n",
    "\n",
    "# runden und sicnificante Stellen anpassen\n",
    "\n",
    "print('The calculatet average duration of the sightings is {:0.3E} seconds'.format(around(st.mean(duration))))"
   ]
  },
  {
   "cell_type": "code",
   "execution_count": 4,
   "metadata": {},
   "outputs": [
    {
     "name": "stdout",
     "output_type": "stream",
     "text": [
      "['us', 'ca', 'au', 'gb']\n"
     ]
    }
   ],
   "source": [
    "'''Find all unique countries that have had ufo sightings,\n",
    "and print to screen a nonredundant list of them\n",
    "'''\n",
    "# noredundant list of countries \n",
    "nonred_list=[]\n",
    "\n",
    "\n",
    "\n",
    "for i in country:\n",
    "    if i not in nonred_list:\n",
    "        nonred_list.append(i)\n",
    "        \n",
    "print(nonred_list)\n"
   ]
  },
  {
   "cell_type": "code",
   "execution_count": 5,
   "metadata": {},
   "outputs": [
    {
     "name": "stdout",
     "output_type": "stream",
     "text": [
      "The minimum of digits are 2 and the maximum of digits 9\n"
     ]
    }
   ],
   "source": [
    "'''\n",
    "Calculate the a) maximum and b) minimum number of digits of the numbers\n",
    "within the duration data\n",
    "'''\n",
    "\n",
    "#This funktion takes a list and return a list with Min and Max digits of the numbers in this list.\n",
    "def get_min_max(x = None):\n",
    "    count_digits=[]\n",
    "    \n",
    "    if type(x) is not list :\n",
    "        print('Pleas hand in a list' )\n",
    "     \n",
    "    for i in x:\n",
    "        count_digits.append((len(str(i)))-1)\n",
    "        \n",
    "    return [min(count_digits), max(count_digits)]\n",
    "\n",
    "min_max=get_min_max(duration)\n",
    "print('The minimum of digits are {0:} and the maximum of digits {1:}'.format(min_max[0], min_max[1]))\n",
    "#print(duration)\n",
    "\n"
   ]
  },
  {
   "cell_type": "code",
   "execution_count": 6,
   "metadata": {},
   "outputs": [
    {
     "name": "stdout",
     "output_type": "stream",
     "text": [
      "[10526400.0, 82800000.0, 52623200.0, 52623200.0, 10526400.0, 66276000.0]\n"
     ]
    }
   ],
   "source": [
    "'''\n",
    "5. Create two new lists that contain the numbers that have the a) maximum and\n",
    "b) minimum number of digits (i.e. a max list and a minimum list)\n",
    "\n",
    "'''\n",
    "\n",
    "\n",
    "#This function has to get a list and return a list with the numbers that have the maximum numbers of digits\n",
    "def get_min(x = None):\n",
    "    re_min=[]\n",
    "    min = get_min_max(x)[0]\n",
    "    if type(x) is not list :\n",
    "        print('Pleas hand in a list' )\n",
    "    for i in x:\n",
    "        if len((str)(i))-1 == min:\n",
    "            re_min.append(i)\n",
    "    return re_min\n",
    "\n",
    "#This function has to get a list and return a list with the numbers that have the minimum numbers of digits\n",
    "def get_max(x = None):\n",
    "    re_max=[]\n",
    "    max = get_min_max(x)[1]\n",
    "    if type(x) is not list :\n",
    "        print('Pleas hand in a list' )\n",
    "    for i in x:\n",
    "        if len((str)(i))-1 == max:\n",
    "            re_max.append(i)\n",
    "    return re_max\n",
    "\n",
    "y = get_min(duration)\n",
    "z = get_max(duration)\n",
    "print(z)\n",
    "\n",
    "\n"
   ]
  },
  {
   "cell_type": "code",
   "execution_count": 7,
   "metadata": {
    "scrolled": false
   },
   "outputs": [
    {
     "name": "stdout",
     "output_type": "stream",
     "text": [
      "<itertools.zip_longest object at 0x000002941512C688>\n"
     ]
    }
   ],
   "source": [
    "'''\n",
    "6. Write a single new csv file that contains these two new lists,\n",
    "each given its own column \n",
    "(hint: take a look into the itertools.zip_longest function)\n",
    "'''\n",
    "\n",
    "import csv\n",
    "import itertools as it\n",
    "\n",
    "#This function creates a new CSV file with the name \"NewList\" and writes in the min and max values as seperate columns\n",
    "with open('NewList.csv', 'w', newline='') as myfile:\n",
    "    wr = csv.writer(myfile, quoting=csv.QUOTE_ALL)\n",
    "    #it.zip_longest combines our two list as tuples and files the missing values (e.g. with uneven long lists) with filler (default = none)\n",
    "    #this is needed because we want the two list filled in the columns and not into two rows, wich is not supported by the default csv function\n",
    "    row = it.zip_longest(y,z)\n",
    "    print (row)\n",
    "    #writing row for row \n",
    "    for i in row:\n",
    "        wr.writerow(i)\n"
   ]
  },
  {
   "cell_type": "code",
   "execution_count": null,
   "metadata": {},
   "outputs": [],
   "source": []
  },
  {
   "cell_type": "code",
   "execution_count": null,
   "metadata": {},
   "outputs": [],
   "source": []
  }
 ],
 "metadata": {
  "kernelspec": {
   "display_name": "Python 3",
   "language": "python",
   "name": "python3"
  },
  "language_info": {
   "codemirror_mode": {
    "name": "ipython",
    "version": 3
   },
   "file_extension": ".py",
   "mimetype": "text/x-python",
   "name": "python",
   "nbconvert_exporter": "python",
   "pygments_lexer": "ipython3",
   "version": "3.7.6"
  }
 },
 "nbformat": 4,
 "nbformat_minor": 4
}
