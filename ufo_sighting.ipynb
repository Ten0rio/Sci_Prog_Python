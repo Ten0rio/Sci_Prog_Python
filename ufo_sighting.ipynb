{
 "cells": [
  {
   "cell_type": "code",
   "execution_count": 32,
   "metadata": {},
   "outputs": [],
   "source": [
    "'''\n",
    "1)\n",
    "Task: Write a program (e.g. 'ufo_sighting.py') that does the following\n",
    "\n",
    "1. Using the csv library, read in the file ufo_data.csv\n",
    "\n",
    "2. Calculate and print to screen the average duration of the sightings\n",
    "\n",
    "3. Find all unique countries that have had ufo sightings,\n",
    "and print to screen a nonredundant list of them\n",
    "\n",
    "4. Calculate the a) maximum and b) minimum number of digits of the numbers\n",
    "within the duration data\n",
    "\n",
    "5. Create two new lists that contain the numbers that have the a) maximum and\n",
    "b) minimum number of digits (i.e. a max list and a minimum list)\n",
    "\n",
    "6. Write a single new csv file that contains these two new lists,\n",
    "each given its own column \n",
    "(hint: take a look into the itertools.zip_longest function)\n",
    "\n",
    "2)\n",
    "Include at the top of the code as\n",
    "a block comment (i.e. triple quotations) a clear statement\n",
    "of each your contribution\n",
    "\n",
    "For Example:\n",
    "\n",
    "\"\"\"\n",
    "\n",
    "Student 1:\n",
    "\n",
    "a. Conceptual development\n",
    "b. Primary developer of function_1_name\n",
    "c. Codeveloper of error functions etc.\n",
    "\n",
    "Student 2:\n",
    "\n",
    "a. Conceptual development\n",
    "b. Primary developer of function_2_name\n",
    "c. Codeveloper of error functions\n",
    "d. Primary developer of user interface etc.\n",
    "\n",
    "\n",
    "'''\n",
    "import csv\n",
    "import statistics as st\n",
    "from numpy import around\n",
    "import matplotlib.pyplot as plt\n",
    "%matplotlib inline\n"
   ]
  },
  {
   "cell_type": "code",
   "execution_count": 24,
   "metadata": {},
   "outputs": [],
   "source": [
    " \n",
    "\n",
    "datetime=[]\n",
    "city=[]\n",
    "state=[]\n",
    "country=[]\n",
    "shape=[]\n",
    "duration=[]# (seconds)\n",
    "comments=[]\n",
    "date_posted=[]\n",
    "latitude=[]\n",
    "longitude=[]\n",
    "year=[]\n",
    "\n",
    "with open('ufo_data.csv') as file:\n",
    "   read_it = csv.reader(file, delimiter=',')\n",
    "   next(read_it)  ## skips header (i.e. the first row)\n",
    "   for row in read_it:\n",
    "        datetime.append((row[0]))\n",
    "        city.append((row[1]))\n",
    "        state.append((row[2]))\n",
    "        country.append((row[3]))\n",
    "        shape.append((row[4]))\n",
    "        duration.append(float((row[5])))   # (seconds)\n",
    "        comments.append((row[6]))\n",
    "        date_posted.append((row[7]))\n",
    "        latitude.append((row[8]))\n",
    "        longitude.append(float((row[9])))\n",
    "        year.append(float((row[10])))\n",
    "    "
   ]
  },
  {
   "cell_type": "code",
   "execution_count": 38,
   "metadata": {},
   "outputs": [
    {
     "name": "stdout",
     "output_type": "stream",
     "text": [
      "The calculatet average duration of the sightings are6.573E+03seconds\n"
     ]
    }
   ],
   "source": [
    "'''Calculate and print to screen the average duration of the sightings'''\n",
    "\n",
    "# runden und sicnificante Stellen anpassen\n",
    "\n",
    "print('The calculatet average duration of the sightings are{:0.3E} seconds'.format(around(st.mean(duration))))"
   ]
  },
  {
   "cell_type": "code",
   "execution_count": 58,
   "metadata": {},
   "outputs": [
    {
     "name": "stdout",
     "output_type": "stream",
     "text": [
      "['us', 'ca', 'au', 'gb']\n"
     ]
    }
   ],
   "source": [
    "'''Find all unique countries that have had ufo sightings,\n",
    "and print to screen a nonredundant list of them\n",
    "'''\n",
    "# noredundant list of countries \n",
    "nonred_list=[]\n",
    "\n",
    "\n",
    "\n",
    "for i in country:\n",
    "    if i not in nonred_list:\n",
    "        nonred_list.append(i)\n",
    "        \n",
    "print(nonred_list)\n"
   ]
  },
  {
   "cell_type": "code",
   "execution_count": 77,
   "metadata": {},
   "outputs": [
    {
     "name": "stdout",
     "output_type": "stream",
     "text": [
      "The maximum of digits are 9 and the minimum of digits 2\n"
     ]
    }
   ],
   "source": [
    "'''\n",
    "Calculate the a) maximum and b) minimum number of digits of the numbers\n",
    "within the duration data\n",
    "'''\n",
    "#the duration numbers as string\n",
    "\n",
    "count_digits=[]\n",
    "\n",
    "for i in duration:\n",
    "    count_digits.append((len(str(i)))-1)\n",
    "    \n",
    "print('The maximum of digits are {0:} and the minimum of digits {1:}'.format(max(count_digits), min(count_digits)))\n",
    "    \n",
    "#print(duration)\n",
    "\n"
   ]
  },
  {
   "cell_type": "code",
   "execution_count": null,
   "metadata": {},
   "outputs": [],
   "source": []
  },
  {
   "cell_type": "code",
   "execution_count": null,
   "metadata": {},
   "outputs": [],
   "source": []
  }
 ],
 "metadata": {
  "kernelspec": {
   "display_name": "Python 3",
   "language": "python",
   "name": "python3"
  },
  "language_info": {
   "codemirror_mode": {
    "name": "ipython",
    "version": 3
   },
   "file_extension": ".py",
   "mimetype": "text/x-python",
   "name": "python",
   "nbconvert_exporter": "python",
   "pygments_lexer": "ipython3",
   "version": "3.7.6"
  }
 },
 "nbformat": 4,
 "nbformat_minor": 4
}
