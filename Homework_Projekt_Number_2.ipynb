{
 "cells": [
  {
   "cell_type": "code",
   "execution_count": 1,
   "metadata": {},
   "outputs": [
    {
     "data": {
      "text/plain": [
       "'\\n1)\\nTask: Write a program (e.g. \\'ufo_sighting.py\\') that does the following\\nUsing the csv library, read in the file ufo_data.csv\\nCalculate and print to screen the average duration of the sightings\\nFind all unique countries that have had ufo sightings, and print to screen a nonredundant list of them\\nCalculate the a) maximum and b) minimum number of digits of the numbers within the duration data\\nCreate two new lists that contain the numbers that have the a) maximum and b) minimum number of digits (i.e. a max list and a minimum list)\\nWrite a single new csv file that contains these two new lists, each given its own column (hint: take a look into the itertools.zip_longest function)\\n\\n2)\\nInclude at the top of the code as a block comment (i.e. triple quotations) a clear statement of each your contribution\\n\\nFor Example:\\n\\n\"\"\"\\n\\nStudent 1:\\n\\na. Conceptual development\\nb. Primary developer of function_1_name\\nc. Codeveloper of error functions etc.\\n\\nStudent 2:\\n\\na. Conceptual development\\nb. Primary developer of function_2_name\\nc. Codeveloper of error functions\\nd. Primary developer of user interface etc.\\n\\n\\n'"
      ]
     },
     "execution_count": 1,
     "metadata": {},
     "output_type": "execute_result"
    }
   ],
   "source": [
    "'''\n",
    "1)\n",
    "Task: Write a program (e.g. 'ufo_sighting.py') that does the following\n",
    "\n",
    "1. Using the csv library, read in the file ufo_data.csv\n",
    "\n",
    "2. Calculate and print to screen the average duration of the sightings\n",
    "\n",
    "3. Find all unique countries that have had ufo sightings,\n",
    "and print to screen a nonredundant list of them\n",
    "\n",
    "4. Calculate the a) maximum and b) minimum number of digits of the numbers\n",
    "within the duration data\n",
    "\n",
    "5. Create two new lists that contain the numbers that have the a) maximum and\n",
    "b) minimum number of digits (i.e. a max list and a minimum list)\n",
    "\n",
    "6. Write a single new csv file that contains these two new lists,\n",
    "each given its own column \n",
    "(hint: take a look into the itertools.zip_longest function)\n",
    "\n",
    "2)\n",
    "Include at the top of the code as\n",
    "a block comment (i.e. triple quotations) a clear statement\n",
    "of each your contribution\n",
    "\n",
    "For Example:\n",
    "\n",
    "\"\"\"\n",
    "\n",
    "Student 1:\n",
    "\n",
    "a. Conceptual development\n",
    "b. Primary developer of function_1_name\n",
    "c. Codeveloper of error functions etc.\n",
    "\n",
    "Student 2:\n",
    "\n",
    "a. Conceptual development\n",
    "b. Primary developer of function_2_name\n",
    "c. Codeveloper of error functions\n",
    "d. Primary developer of user interface etc.\n",
    "\n",
    "\n",
    "'''\n",
    "to do = "
   ]
  },
  {
   "cell_type": "code",
   "execution_count": null,
   "metadata": {},
   "outputs": [],
   "source": []
  }
 ],
 "metadata": {
  "kernelspec": {
   "display_name": "Python 3",
   "language": "python",
   "name": "python3"
  },
  "language_info": {
   "codemirror_mode": {
    "name": "ipython",
    "version": 3
   },
   "file_extension": ".py",
   "mimetype": "text/x-python",
   "name": "python",
   "nbconvert_exporter": "python",
   "pygments_lexer": "ipython3",
   "version": "3.7.6"
  }
 },
 "nbformat": 4,
 "nbformat_minor": 4
}
